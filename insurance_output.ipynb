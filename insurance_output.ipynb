{
 "cells": [
  {
   "cell_type": "code",
   "execution_count": 2,
   "metadata": {},
   "outputs": [],
   "source": [
    "import glob\n",
    "\n",
    "def get_output(predictions, output_file, input_folder_name='testing_portfolios'):\n",
    "    path = input_folder_name # use your path\n",
    "    all_files = glob.glob(path + \"/*.csv\")\n",
    "    files = []\n",
    "    for f in all_files:\n",
    "        t = f[24:]\n",
    "        t = t[:-4]\n",
    "        files.append(t)\n",
    "    def sort_file(item):\n",
    "        return int(item.split('_')[1])\n",
    "    files = sorted(files, key=sort_file)\n",
    "    assert len(predictions) == len(files)\n",
    "    output = []\n",
    "    for i in range(len(predictions)):\n",
    "        pred = predictions[i]\n",
    "        output.append((files[i], pred))\n",
    "\n",
    "        if output_file is not None:\n",
    "            op_pd = pd.DataFrame(output, columns=['ID','ln_LR'])\n",
    "            op_pd.to_csv(output_file + '.csv', index=False)\n",
    "            return op_pd\n",
    "        else:\n",
    "            return output"
   ]
  },
  {
   "cell_type": "code",
   "execution_count": null,
   "metadata": {},
   "outputs": [],
   "source": []
  }
 ],
 "metadata": {
  "kernelspec": {
   "display_name": "Python 3",
   "language": "python",
   "name": "python3"
  },
  "language_info": {
   "codemirror_mode": {
    "name": "ipython",
    "version": 3
   },
   "file_extension": ".py",
   "mimetype": "text/x-python",
   "name": "python",
   "nbconvert_exporter": "python",
   "pygments_lexer": "ipython3",
   "version": "3.7.5rc1"
  }
 },
 "nbformat": 4,
 "nbformat_minor": 2
}
