{
 "cells": [
  {
   "cell_type": "code",
   "execution_count": 1,
   "metadata": {},
   "outputs": [],
   "source": [
    "import pandas as pd\n",
    "import numpy as np\n",
    "import random\n",
    "import csv"
   ]
  },
  {
   "cell_type": "code",
   "execution_count": 2,
   "metadata": {},
   "outputs": [],
   "source": [
    "df= pd.read_csv('training_data.csv', low_memory=False)"
   ]
  },
  {
   "cell_type": "code",
   "execution_count": 3,
   "metadata": {},
   "outputs": [
    {
     "data": {
      "text/plain": [
       "(424431, 69)"
      ]
     },
     "execution_count": 3,
     "metadata": {},
     "output_type": "execute_result"
    }
   ],
   "source": [
    "df.shape"
   ]
  },
  {
   "cell_type": "code",
   "execution_count": 4,
   "metadata": {},
   "outputs": [
    {
     "name": "stdout",
     "output_type": "stream",
     "text": [
      "405562\n",
      "18869\n"
     ]
    }
   ],
   "source": [
    "no_claim = []\n",
    "claimed = []\n",
    "for i, x in enumerate(df['Claim_Count']):\n",
    "    if (int(x) > 0):\n",
    "        claimed.append(i)\n",
    "    else:\n",
    "        no_claim.append(i)\n",
    "print(len(no_claim))\n",
    "print(len(claimed))"
   ]
  },
  {
   "cell_type": "code",
   "execution_count": 5,
   "metadata": {},
   "outputs": [],
   "source": [
    "dic=df.to_dict('records')"
   ]
  },
  {
   "cell_type": "code",
   "execution_count": 6,
   "metadata": {},
   "outputs": [],
   "source": [
    "new_dic={}\n",
    "for i in range(len(claimed)):\n",
    "    if dic[claimed[i]]['Claim_Count']>0:\n",
    "        new_dic[claimed[i]]=dic[claimed[i]]"
   ]
  },
  {
   "cell_type": "code",
   "execution_count": 7,
   "metadata": {},
   "outputs": [],
   "source": [
    "#dfclaim=pd.DataFrame.from_dict(new_dic,orient='index')"
   ]
  },
  {
   "cell_type": "code",
   "execution_count": 8,
   "metadata": {},
   "outputs": [],
   "source": [
    "noclaim_dic={}\n",
    "for i in range(len(no_claim)):\n",
    "    if dic[no_claim[i]]['Claim_Count']==0:\n",
    "        noclaim_dic[no_claim[i]]=dic[no_claim[i]]"
   ]
  },
  {
   "cell_type": "code",
   "execution_count": 9,
   "metadata": {},
   "outputs": [],
   "source": [
    "#dfnoclaim=pd.DataFrame.from_dict(noclaim_dic,orient='index')"
   ]
  },
  {
   "cell_type": "code",
   "execution_count": 11,
   "metadata": {},
   "outputs": [],
   "source": [
    "#dfnoclaim.shape"
   ]
  },
  {
   "cell_type": "code",
   "execution_count": 12,
   "metadata": {},
   "outputs": [
    {
     "data": {
      "text/plain": [
       "18869"
      ]
     },
     "execution_count": 12,
     "metadata": {},
     "output_type": "execute_result"
    }
   ],
   "source": [
    "len(new_dic)"
   ]
  },
  {
   "cell_type": "code",
   "execution_count": 14,
   "metadata": {},
   "outputs": [],
   "source": [
    "claimsub=[]\n",
    "noclaimsub=[]\n",
    "row1=1\n",
    "while row1<421:\n",
    "    if row1==420:\n",
    "        claimsub.append(new_dic)\n",
    "        break\n",
    "    csubset = dict(random.sample(new_dic.items(), 45))\n",
    "    claimsub.append(csubset)\n",
    "    row1+=1\n",
    "    for k in csubset.keys():\n",
    "        del new_dic[k]\n"
   ]
  },
  {
   "cell_type": "code",
   "execution_count": 16,
   "metadata": {},
   "outputs": [],
   "source": [
    "row2=1\n",
    "while row2< 421:\n",
    "    if row2==420:\n",
    "        noclaimsub.append(noclaim_dic)\n",
    "        break\n",
    "    nsubset = dict(random.sample(noclaim_dic.items(), 965))\n",
    "    noclaimsub.append(nsubset)\n",
    "    row2+=1\n",
    "    for k in nsubset.keys():\n",
    "        del noclaim_dic[k]"
   ]
  },
  {
   "cell_type": "code",
   "execution_count": 32,
   "metadata": {},
   "outputs": [
    {
     "data": {
      "text/plain": [
       "420"
      ]
     },
     "execution_count": 32,
     "metadata": {},
     "output_type": "execute_result"
    }
   ],
   "source": [
    "len(claimsub)"
   ]
  },
  {
   "cell_type": "code",
   "execution_count": 83,
   "metadata": {},
   "outputs": [],
   "source": [
    "csv_columns=['PolicyNo','Policy_Company','Policy_Installment_Term','Policy_Billing_Code','Policy_Method_Of_Payment','Policy_Reinstatement_Fee_Indicator','Policy_Zip_Code_Garaging_Location','Vehicle_Territory','Vehicle_Make_Year','Vehicle_Make_Description','Vehicle_Performance','Vehicle_New_Cost_Amount','Vehicle_Symbol','Vehicle_Number_Of_Drivers_Assigned','Vehicle_Usage','Vehicle_Miles_To_Work','Vehicle_Days_Per_Week_Driven','Vehicle_Annual_Miles','Vehicle_Anti_Theft_Device','Vehicle_Passive_Restraint','Vehicle_Age_In_Years','Vehicle_Med_Pay_Limit','Vehicle_Bodily_Injury_Limit','Vehicle_Physical_Damage_Limit','Vehicle_Comprehensive_Coverage_Indicator','Vehicle_Comprehensive_Coverage_Limit','Vehicle_Collision_Coverage_Indicator','Vehicle_Collision_Coverage_Deductible','Driver_Total','Driver_Total_Male','Driver_Total_Female','Driver_Total_Single','Driver_Total_Married','Driver_Total_Related_To_Insured_Self','Driver_Total_Related_To_Insured_Spouse','Driver_Total_Related_To_Insured_Child','Driver_Total_Licensed_In_State','Driver_Minimum_Age','Driver_Maximum_Age','Driver_Total_Teenager_Age_15_19','Driver_Total_College_Ages_20_23','Driver_Total_Young_Adult_Ages_24_29','Driver_Total_Low_Middle_Adult_Ages_30_39','Driver_Total_Middle_Adult_Ages_40_49','Driver_Total_Adult_Ages_50_64','Driver_Total_Senior_Ages_65_69','Driver_Total_Upper_Senior_Ages_70_plus','Vehicle_Youthful_Driver_Indicator','Vehicle_Youthful_Driver_Training_Code','Vehicle_Youthful_Good_Student_Code','Vehicle_Driver_Points','Vehicle_Safe_Driver_Discount_Indicator','EEA_Liability_Coverage_Only_Indicator','EEA_Multi_Auto_Policies_Indicator','EEA_Policy_Zip_Code_3','EEA_Policy_Tenure','EEA_Agency_Type','EEA_Packaged_Policy_Indicator','EEA_Full_Coverage_Indicator','EEA_Prior_Bodily_Injury_Limit','EEA_PolicyYear','SYS_Renewed','SYS_New_Business','Annual_Premium','Claim_Count','Loss_Amount','Frequency','Severity','Loss_Ratio']"
   ]
  },
  {
   "cell_type": "code",
   "execution_count": 89,
   "metadata": {},
   "outputs": [],
   "source": [
    "lis=list(range(1,421))\n",
    "st=[str(i) for i in lis]\n",
    "j=0\n",
    "for i in range(len(claimsub)):\n",
    "    csv_file = (\"Training \"+ st[j]+\".csv\")\n",
    "    (pd.DataFrame.from_dict(data=claimsub[j], orient='index')\n",
    "       .to_csv(csv_file, header=True))\n",
    "    j+=1"
   ]
  },
  {
   "cell_type": "code",
   "execution_count": null,
   "metadata": {},
   "outputs": [],
   "source": []
  },
  {
   "cell_type": "code",
   "execution_count": null,
   "metadata": {},
   "outputs": [],
   "source": []
  }
 ],
 "metadata": {
  "kernelspec": {
   "display_name": "Python 3",
   "language": "python",
   "name": "python3"
  },
  "language_info": {
   "codemirror_mode": {
    "name": "ipython",
    "version": 3
   },
   "file_extension": ".py",
   "mimetype": "text/x-python",
   "name": "python",
   "nbconvert_exporter": "python",
   "pygments_lexer": "ipython3",
   "version": "3.6.6"
  }
 },
 "nbformat": 4,
 "nbformat_minor": 2
}
